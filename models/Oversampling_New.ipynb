{
 "cells": [
  {
   "cell_type": "code",
   "execution_count": 68,
   "id": "f363856c-3a02-4748-b229-c7c00ce88f31",
   "metadata": {},
   "outputs": [],
   "source": [
    "import pandas as pd\n",
    "from imblearn.over_sampling import RandomOverSampler\n",
    "from sklearn.model_selection import train_test_split\n",
    "from imblearn.over_sampling import SMOTE\n",
    "from sklearn.svm import SVC\n",
    "import seaborn as sns\n",
    "import matplotlib.pyplot as plt\n",
    "import numpy as np\n",
    "import seaborn as sns\n",
    "from sklearn.decomposition import PCA\n",
    "from sklearn.model_selection import train_test_split, GridSearchCV\n",
    "from sklearn.preprocessing import StandardScaler\n",
    "from sklearn.metrics import accuracy_score, precision_score, recall_score, f1_score, classification_report, confusion_matrix"
   ]
  },
  {
   "cell_type": "code",
   "execution_count": 69,
   "id": "4a2443ef-2f9c-420b-ad4e-4f8d15b88479",
   "metadata": {},
   "outputs": [],
   "source": [
    "# Langkah 1: Memuat dataset dan menampilkan kolom\n",
    "file_path = 'datasetmahasiswa_mix.xlsx'\n",
    "data = pd.read_excel(file_path)"
   ]
  },
  {
   "cell_type": "code",
   "execution_count": 70,
   "id": "44660a85-d794-41d6-b7ed-579523d6d106",
   "metadata": {},
   "outputs": [
    {
     "name": "stdout",
     "output_type": "stream",
     "text": [
      "Index(['IPS 1', 'IPS 2', 'IPS 3', 'IPS 4', 'Tagihan 1', 'Tagihan 2',\n",
      "       'Tagihan 3', 'Tagihan 4', 'Kehadiran', 'Target'],\n",
      "      dtype='object')\n"
     ]
    }
   ],
   "source": [
    "print(data.columns)"
   ]
  },
  {
   "cell_type": "code",
   "execution_count": 71,
   "id": "c090e2fd-0973-4b1a-a5bb-5b015ef1509a",
   "metadata": {},
   "outputs": [
    {
     "name": "stdout",
     "output_type": "stream",
     "text": [
      "   IPS 1  IPS 2  IPS 3  IPS 4  Tagihan 1  Tagihan 2  Tagihan 3  Tagihan 4  \\\n",
      "0   2.38   2.70   3.02   3.00          0          0          0          0   \n",
      "1   2.69   2.50   3.07   2.83          0          1          1          1   \n",
      "2   2.45   1.43   2.16   0.27          0          0          0          0   \n",
      "3   3.24   3.83   3.65   3.61          0          1          1          1   \n",
      "4   2.24   3.14   1.90   1.89          0          0          0          0   \n",
      "5   2.74   2.41   2.75   2.86          0          0          0          0   \n",
      "6   2.31   2.77   2.64   2.82          0          0          0          0   \n",
      "7   2.67   2.89   2.66   2.45          0          0          0          0   \n",
      "8   3.43   3.56   3.55   3.67          0          1          1          1   \n",
      "9   3.76   3.81   3.17   3.63          0          0          0          1   \n",
      "\n",
      "   Kehadiran  Target  \n",
      "0      27.42       2  \n",
      "1      34.18       2  \n",
      "2      10.70       2  \n",
      "3      98.32       1  \n",
      "4      90.51       1  \n",
      "5      11.71       2  \n",
      "6      41.32       2  \n",
      "7      49.36       2  \n",
      "8      88.25       1  \n",
      "9      87.99       1  \n"
     ]
    }
   ],
   "source": [
    "print(data.head(10))"
   ]
  },
  {
   "cell_type": "code",
   "execution_count": 72,
   "id": "301e0312-439f-4c25-87d4-603a11ded59d",
   "metadata": {},
   "outputs": [
    {
     "name": "stdout",
     "output_type": "stream",
     "text": [
      "Class distribution before balancing:\n",
      "Target\n",
      "1    208\n",
      "2    110\n",
      "Name: count, dtype: int64\n"
     ]
    }
   ],
   "source": [
    "# Check the class distribution\n",
    "print(\"Class distribution before balancing:\")\n",
    "print(data['Target'].value_counts())"
   ]
  },
  {
   "cell_type": "code",
   "execution_count": 73,
   "id": "d4c58715-94f0-4e2c-8f4f-04c8c00342df",
   "metadata": {},
   "outputs": [
    {
     "name": "stdout",
     "output_type": "stream",
     "text": [
      "Index(['IPS 1', 'IPS 2', 'IPS 3', 'IPS 4', 'Tagihan 1', 'Tagihan 2',\n",
      "       'Tagihan 3', 'Tagihan 4', 'Kehadiran', 'Target'],\n",
      "      dtype='object')\n"
     ]
    }
   ],
   "source": [
    "# Print column names to verify\n",
    "print(data.columns)\n",
    "\n",
    "# Sesuaikan nama kolom dengan yang benar\n",
    "X = data.drop(columns=['Target'])  # Sesuaikan 'Target'\n",
    "y = data['Target']  # Sesuaikan 'Target'\n",
    "\n",
    "# Terapkan RandomOverSampler\n",
    "ros = RandomOverSampler(sampling_strategy='auto')\n",
    "X_resampled, y_resampled = ros.fit_resample(X, y)\n"
   ]
  },
  {
   "cell_type": "code",
   "execution_count": 74,
   "id": "25181a49-7ae1-404d-838f-e5928efde055",
   "metadata": {},
   "outputs": [],
   "source": [
    "# Menggabungkan kembali fitur dan label\n",
    "data_resampled = pd.concat([X_resampled, y_resampled], axis=1)"
   ]
  },
  {
   "cell_type": "code",
   "execution_count": 75,
   "id": "42f53daf-57e0-4a65-b7b6-7ab60c6a5b60",
   "metadata": {},
   "outputs": [
    {
     "name": "stdout",
     "output_type": "stream",
     "text": [
      "Jumlah mahasiswa yang lulus (lulus=1): 208\n",
      "Jumlah mahasiswa yang drop out (do=2): 110\n"
     ]
    }
   ],
   "source": [
    "# Langkah 2: Memeriksa distribusi data\n",
    "count_lulus = data[data['Target'] == 1].shape[0]\n",
    "count_do = data[data['Target'] == 2].shape[0]\n",
    "print(f'Jumlah mahasiswa yang lulus (lulus=1): {count_lulus}')\n",
    "print(f'Jumlah mahasiswa yang drop out (do=2): {count_do}')\n"
   ]
  },
  {
   "cell_type": "code",
   "execution_count": 76,
   "id": "2c8ed8c1-2d84-4cf4-a679-4ce60ab1abc3",
   "metadata": {},
   "outputs": [
    {
     "name": "stdout",
     "output_type": "stream",
     "text": [
      "Jumlah mahasiswa yang lulus setelah resampling (lulus=1): 208\n",
      "Jumlah mahasiswa yang drop out setelah resampling (do=2): 208\n"
     ]
    }
   ],
   "source": [
    "# Memeriksa distribusi data setelah resampling\n",
    "count_lulus_resampled = data_resampled[data_resampled['Target'] == 1].shape[0]  # Sesuaikan 'LULUS'\n",
    "count_do_resampled = data_resampled[data_resampled['Target'] == 2].shape[0]  # Sesuaikan 'DO'\n",
    "\n",
    "print(f'Jumlah mahasiswa yang lulus setelah resampling (lulus=1): {count_lulus_resampled}')\n",
    "print(f'Jumlah mahasiswa yang drop out setelah resampling (do=2): {count_do_resampled}')"
   ]
  },
  {
   "cell_type": "code",
   "execution_count": 77,
   "id": "995c4f19-3319-47ae-a169-6e25db76401d",
   "metadata": {},
   "outputs": [
    {
     "name": "stdout",
     "output_type": "stream",
     "text": [
      "Laporan Klasifikasi Data Tidak Seimbang:\n",
      "               precision    recall  f1-score   support\n",
      "\n",
      "           1       1.00      0.98      0.99        43\n",
      "           2       0.95      1.00      0.98        21\n",
      "\n",
      "    accuracy                           0.98        64\n",
      "   macro avg       0.98      0.99      0.98        64\n",
      "weighted avg       0.99      0.98      0.98        64\n",
      "\n",
      "Confusion Matrix:\n",
      " [[42  1]\n",
      " [ 0 21]]\n",
      "Laporan Klasifikasi Data Seimbang:\n",
      "               precision    recall  f1-score   support\n",
      "\n",
      "           1       1.00      0.98      0.99        43\n",
      "           2       0.95      1.00      0.98        21\n",
      "\n",
      "    accuracy                           0.98        64\n",
      "   macro avg       0.98      0.99      0.98        64\n",
      "weighted avg       0.99      0.98      0.98        64\n",
      "\n",
      "Confusion Matrix:\n",
      " [[42  1]\n",
      " [ 0 21]]\n"
     ]
    }
   ],
   "source": [
    "# Bagi dataset menjadi training dan testing set\n",
    "X_train, X_test, y_train, y_test = train_test_split(X, y, test_size=0.2, random_state=42)\n",
    "\n",
    "# Model untuk data tidak seimbang\n",
    "model_unbalanced = SVC()\n",
    "model_unbalanced.fit(X_train, y_train)\n",
    "\n",
    "# Oversampling dengan SMOTE pada data training\n",
    "smote = SMOTE(random_state=42)\n",
    "X_res, y_res = smote.fit_resample(X_train, y_train)\n",
    "\n",
    "# Model untuk data seimbang\n",
    "model_balanced = SVC()\n",
    "model_balanced.fit(X_res, y_res)\n",
    "\n",
    "# Evaluasi Model\n",
    "from sklearn.metrics import classification_report, confusion_matrix\n",
    "\n",
    "# Model evaluasi pada data yang tidak seimbang\n",
    "y_pred_unbalanced = model_unbalanced.predict(X_test)\n",
    "print(\"Laporan Klasifikasi Data Tidak Seimbang:\\n\", classification_report(y_test, y_pred_unbalanced))\n",
    "print(\"Confusion Matrix:\\n\", confusion_matrix(y_test, y_pred_unbalanced))\n",
    "\n",
    "# Model evaluasi pada data yang seimbang\n",
    "y_pred_balanced = model_balanced.predict(X_test)\n",
    "print(\"Laporan Klasifikasi Data Seimbang:\\n\", classification_report(y_test, y_pred_balanced))\n",
    "print(\"Confusion Matrix:\\n\", confusion_matrix(y_test, y_pred_balanced))\n"
   ]
  },
  {
   "cell_type": "code",
   "execution_count": 78,
   "id": "8f828066-4773-4d0d-abd4-0b9847cc18d7",
   "metadata": {},
   "outputs": [
    {
     "name": "stdout",
     "output_type": "stream",
     "text": [
      "   IPS 1  IPS 2  IPS 3  IPS 4  Tagihan 1  Tagihan 2  Tagihan 3  Tagihan 4  \\\n",
      "0   2.38   2.70   3.02   3.00          0          0          0          0   \n",
      "1   2.69   2.50   3.07   2.83          0          1          1          1   \n",
      "2   2.45   1.43   2.16   0.27          0          0          0          0   \n",
      "3   3.24   3.83   3.65   3.61          0          1          1          1   \n",
      "4   2.24   3.14   1.90   1.89          0          0          0          0   \n",
      "\n",
      "   Kehadiran  Target  \n",
      "0      27.42       2  \n",
      "1      34.18       2  \n",
      "2      10.70       2  \n",
      "3      98.32       1  \n",
      "4      90.51       1  \n",
      "Target\n",
      "2    208\n",
      "1    208\n",
      "Name: count, dtype: int64\n",
      "Target\n",
      "2    208\n",
      "1    208\n",
      "Name: count, dtype: int64\n"
     ]
    }
   ],
   "source": [
    "# Langkah 4: Memeriksa hasil akhir\n",
    "print(data_resampled.head())\n",
    "print(data_resampled['Target'].value_counts())  # Sesuaikan 'LULUS'\n",
    "print(data_resampled['Target'].value_counts())  # Sesuaikan 'DO'"
   ]
  },
  {
   "cell_type": "code",
   "execution_count": 79,
   "id": "685c046e-93f0-4179-ae56-85eb91471125",
   "metadata": {},
   "outputs": [],
   "source": [
    "# Separate features and target variable\n",
    "X = data.drop('Target', axis=1)\n",
    "y = data['Target']"
   ]
  },
  {
   "cell_type": "code",
   "execution_count": 80,
   "id": "f22a45e3-ab08-4837-92d2-61798f847efd",
   "metadata": {},
   "outputs": [],
   "source": [
    "# Perform oversampling\n",
    "ros = RandomOverSampler(random_state=42)\n",
    "X_resampled_over, y_resampled_over = ros.fit_resample(X, y)"
   ]
  },
  {
   "cell_type": "code",
   "execution_count": 81,
   "id": "a2c182f4-3832-47f9-8e97-b82dd9524795",
   "metadata": {},
   "outputs": [
    {
     "name": "stdout",
     "output_type": "stream",
     "text": [
      "Ukuran data training (oversampling): (291, 9)\n",
      "Ukuran data testing (oversampling): (125, 9)\n"
     ]
    }
   ],
   "source": [
    "# Split data into training and testing sets (for oversampled data)\n",
    "X_train_over, X_test_over, y_train_over, y_test_over = train_test_split(X_resampled_over, y_resampled_over, test_size=0.3, random_state=42)\n",
    "print(f'Ukuran data training (oversampling): {X_train_over.shape}')\n",
    "print(f'Ukuran data testing (oversampling): {X_test_over.shape}')"
   ]
  },
  {
   "cell_type": "code",
   "execution_count": 82,
   "id": "cb542dea-a4bd-42aa-a6de-d73a08eeee34",
   "metadata": {},
   "outputs": [
    {
     "data": {
      "text/html": [
       "<style>#sk-container-id-7 {color: black;background-color: white;}#sk-container-id-7 pre{padding: 0;}#sk-container-id-7 div.sk-toggleable {background-color: white;}#sk-container-id-7 label.sk-toggleable__label {cursor: pointer;display: block;width: 100%;margin-bottom: 0;padding: 0.3em;box-sizing: border-box;text-align: center;}#sk-container-id-7 label.sk-toggleable__label-arrow:before {content: \"▸\";float: left;margin-right: 0.25em;color: #696969;}#sk-container-id-7 label.sk-toggleable__label-arrow:hover:before {color: black;}#sk-container-id-7 div.sk-estimator:hover label.sk-toggleable__label-arrow:before {color: black;}#sk-container-id-7 div.sk-toggleable__content {max-height: 0;max-width: 0;overflow: hidden;text-align: left;background-color: #f0f8ff;}#sk-container-id-7 div.sk-toggleable__content pre {margin: 0.2em;color: black;border-radius: 0.25em;background-color: #f0f8ff;}#sk-container-id-7 input.sk-toggleable__control:checked~div.sk-toggleable__content {max-height: 200px;max-width: 100%;overflow: auto;}#sk-container-id-7 input.sk-toggleable__control:checked~label.sk-toggleable__label-arrow:before {content: \"▾\";}#sk-container-id-7 div.sk-estimator input.sk-toggleable__control:checked~label.sk-toggleable__label {background-color: #d4ebff;}#sk-container-id-7 div.sk-label input.sk-toggleable__control:checked~label.sk-toggleable__label {background-color: #d4ebff;}#sk-container-id-7 input.sk-hidden--visually {border: 0;clip: rect(1px 1px 1px 1px);clip: rect(1px, 1px, 1px, 1px);height: 1px;margin: -1px;overflow: hidden;padding: 0;position: absolute;width: 1px;}#sk-container-id-7 div.sk-estimator {font-family: monospace;background-color: #f0f8ff;border: 1px dotted black;border-radius: 0.25em;box-sizing: border-box;margin-bottom: 0.5em;}#sk-container-id-7 div.sk-estimator:hover {background-color: #d4ebff;}#sk-container-id-7 div.sk-parallel-item::after {content: \"\";width: 100%;border-bottom: 1px solid gray;flex-grow: 1;}#sk-container-id-7 div.sk-label:hover label.sk-toggleable__label {background-color: #d4ebff;}#sk-container-id-7 div.sk-serial::before {content: \"\";position: absolute;border-left: 1px solid gray;box-sizing: border-box;top: 0;bottom: 0;left: 50%;z-index: 0;}#sk-container-id-7 div.sk-serial {display: flex;flex-direction: column;align-items: center;background-color: white;padding-right: 0.2em;padding-left: 0.2em;position: relative;}#sk-container-id-7 div.sk-item {position: relative;z-index: 1;}#sk-container-id-7 div.sk-parallel {display: flex;align-items: stretch;justify-content: center;background-color: white;position: relative;}#sk-container-id-7 div.sk-item::before, #sk-container-id-7 div.sk-parallel-item::before {content: \"\";position: absolute;border-left: 1px solid gray;box-sizing: border-box;top: 0;bottom: 0;left: 50%;z-index: -1;}#sk-container-id-7 div.sk-parallel-item {display: flex;flex-direction: column;z-index: 1;position: relative;background-color: white;}#sk-container-id-7 div.sk-parallel-item:first-child::after {align-self: flex-end;width: 50%;}#sk-container-id-7 div.sk-parallel-item:last-child::after {align-self: flex-start;width: 50%;}#sk-container-id-7 div.sk-parallel-item:only-child::after {width: 0;}#sk-container-id-7 div.sk-dashed-wrapped {border: 1px dashed gray;margin: 0 0.4em 0.5em 0.4em;box-sizing: border-box;padding-bottom: 0.4em;background-color: white;}#sk-container-id-7 div.sk-label label {font-family: monospace;font-weight: bold;display: inline-block;line-height: 1.2em;}#sk-container-id-7 div.sk-label-container {text-align: center;}#sk-container-id-7 div.sk-container {/* jupyter's `normalize.less` sets `[hidden] { display: none; }` but bootstrap.min.css set `[hidden] { display: none !important; }` so we also need the `!important` here to be able to override the default hidden behavior on the sphinx rendered scikit-learn.org. See: https://github.com/scikit-learn/scikit-learn/issues/21755 */display: inline-block !important;position: relative;}#sk-container-id-7 div.sk-text-repr-fallback {display: none;}</style><div id=\"sk-container-id-7\" class=\"sk-top-container\"><div class=\"sk-text-repr-fallback\"><pre>SVC(kernel=&#x27;linear&#x27;)</pre><b>In a Jupyter environment, please rerun this cell to show the HTML representation or trust the notebook. <br />On GitHub, the HTML representation is unable to render, please try loading this page with nbviewer.org.</b></div><div class=\"sk-container\" hidden><div class=\"sk-item\"><div class=\"sk-estimator sk-toggleable\"><input class=\"sk-toggleable__control sk-hidden--visually\" id=\"sk-estimator-id-11\" type=\"checkbox\" checked><label for=\"sk-estimator-id-11\" class=\"sk-toggleable__label sk-toggleable__label-arrow\">SVC</label><div class=\"sk-toggleable__content\"><pre>SVC(kernel=&#x27;linear&#x27;)</pre></div></div></div></div></div>"
      ],
      "text/plain": [
       "SVC(kernel='linear')"
      ]
     },
     "execution_count": 82,
     "metadata": {},
     "output_type": "execute_result"
    }
   ],
   "source": [
    "# Train SVM model on oversampled data\n",
    "svm_model_over = SVC(kernel='linear')\n",
    "svm_model_over.fit(X_train_over, y_train_over)"
   ]
  },
  {
   "cell_type": "code",
   "execution_count": 83,
   "id": "8a7a0ac6-8bb4-494d-af4f-11fab2f2e0d6",
   "metadata": {},
   "outputs": [],
   "source": [
    "# Predict on oversampled testing data\n",
    "y_pred_over = svm_model_over.predict(X_test_over)"
   ]
  },
  {
   "cell_type": "code",
   "execution_count": 84,
   "id": "53822502-0d43-47cc-bdec-04ae805ad44b",
   "metadata": {},
   "outputs": [
    {
     "name": "stdout",
     "output_type": "stream",
     "text": [
      "Akurasi model (oversampling): 0.976\n",
      "Presisi model (oversampling): 0.9761630546955624\n",
      "Recall model (oversampling): 0.976\n",
      "F1-Score model (oversampling): 0.9760186034493895\n",
      "Confusion Matrix (oversampling):\n",
      "[[55  1]\n",
      " [ 2 67]]\n"
     ]
    }
   ],
   "source": [
    "# Calculate metrics for oversampled data\n",
    "accuracy_over = accuracy_score(y_test_over, y_pred_over)\n",
    "precision_over = precision_score(y_test_over, y_pred_over, average='weighted')\n",
    "recall_over = recall_score(y_test_over, y_pred_over, average='weighted')\n",
    "f1_over = f1_score(y_test_over, y_pred_over, average='weighted')\n",
    "conf_matrix_over = confusion_matrix(y_test_over, y_pred_over)\n",
    "\n",
    "print(f'Akurasi model (oversampling): {accuracy_over}')\n",
    "print(f'Presisi model (oversampling): {precision_over}')\n",
    "print(f'Recall model (oversampling): {recall_over}')\n",
    "print(f'F1-Score model (oversampling): {f1_over}')\n",
    "print(f'Confusion Matrix (oversampling):\\n{conf_matrix_over}')"
   ]
  },
  {
   "cell_type": "code",
   "execution_count": 85,
   "id": "497677f1-c0d9-4f78-9ab9-bd06d362af6c",
   "metadata": {},
   "outputs": [],
   "source": [
    "# Feature scaling\n",
    "scaler = StandardScaler()\n",
    "X_train_scaled = scaler.fit_transform(X_train)\n",
    "X_test_scaled = scaler.transform(X_test)"
   ]
  },
  {
   "cell_type": "code",
   "execution_count": 86,
   "id": "8ff7239b-2cd8-40a6-b57f-759161db3563",
   "metadata": {},
   "outputs": [],
   "source": [
    "# Reduksi dimensi dengan PCA\n",
    "pca = PCA(n_components=2)\n",
    "X_train_pca = pca.fit_transform(X_train_scaled)\n",
    "X_test_pca = pca.transform(X_test_scaled)"
   ]
  },
  {
   "cell_type": "code",
   "execution_count": 87,
   "id": "39aed8c8-3bea-46a6-9de9-bfc8a4ee3254",
   "metadata": {},
   "outputs": [
    {
     "data": {
      "text/html": [
       "<style>#sk-container-id-8 {color: black;background-color: white;}#sk-container-id-8 pre{padding: 0;}#sk-container-id-8 div.sk-toggleable {background-color: white;}#sk-container-id-8 label.sk-toggleable__label {cursor: pointer;display: block;width: 100%;margin-bottom: 0;padding: 0.3em;box-sizing: border-box;text-align: center;}#sk-container-id-8 label.sk-toggleable__label-arrow:before {content: \"▸\";float: left;margin-right: 0.25em;color: #696969;}#sk-container-id-8 label.sk-toggleable__label-arrow:hover:before {color: black;}#sk-container-id-8 div.sk-estimator:hover label.sk-toggleable__label-arrow:before {color: black;}#sk-container-id-8 div.sk-toggleable__content {max-height: 0;max-width: 0;overflow: hidden;text-align: left;background-color: #f0f8ff;}#sk-container-id-8 div.sk-toggleable__content pre {margin: 0.2em;color: black;border-radius: 0.25em;background-color: #f0f8ff;}#sk-container-id-8 input.sk-toggleable__control:checked~div.sk-toggleable__content {max-height: 200px;max-width: 100%;overflow: auto;}#sk-container-id-8 input.sk-toggleable__control:checked~label.sk-toggleable__label-arrow:before {content: \"▾\";}#sk-container-id-8 div.sk-estimator input.sk-toggleable__control:checked~label.sk-toggleable__label {background-color: #d4ebff;}#sk-container-id-8 div.sk-label input.sk-toggleable__control:checked~label.sk-toggleable__label {background-color: #d4ebff;}#sk-container-id-8 input.sk-hidden--visually {border: 0;clip: rect(1px 1px 1px 1px);clip: rect(1px, 1px, 1px, 1px);height: 1px;margin: -1px;overflow: hidden;padding: 0;position: absolute;width: 1px;}#sk-container-id-8 div.sk-estimator {font-family: monospace;background-color: #f0f8ff;border: 1px dotted black;border-radius: 0.25em;box-sizing: border-box;margin-bottom: 0.5em;}#sk-container-id-8 div.sk-estimator:hover {background-color: #d4ebff;}#sk-container-id-8 div.sk-parallel-item::after {content: \"\";width: 100%;border-bottom: 1px solid gray;flex-grow: 1;}#sk-container-id-8 div.sk-label:hover label.sk-toggleable__label {background-color: #d4ebff;}#sk-container-id-8 div.sk-serial::before {content: \"\";position: absolute;border-left: 1px solid gray;box-sizing: border-box;top: 0;bottom: 0;left: 50%;z-index: 0;}#sk-container-id-8 div.sk-serial {display: flex;flex-direction: column;align-items: center;background-color: white;padding-right: 0.2em;padding-left: 0.2em;position: relative;}#sk-container-id-8 div.sk-item {position: relative;z-index: 1;}#sk-container-id-8 div.sk-parallel {display: flex;align-items: stretch;justify-content: center;background-color: white;position: relative;}#sk-container-id-8 div.sk-item::before, #sk-container-id-8 div.sk-parallel-item::before {content: \"\";position: absolute;border-left: 1px solid gray;box-sizing: border-box;top: 0;bottom: 0;left: 50%;z-index: -1;}#sk-container-id-8 div.sk-parallel-item {display: flex;flex-direction: column;z-index: 1;position: relative;background-color: white;}#sk-container-id-8 div.sk-parallel-item:first-child::after {align-self: flex-end;width: 50%;}#sk-container-id-8 div.sk-parallel-item:last-child::after {align-self: flex-start;width: 50%;}#sk-container-id-8 div.sk-parallel-item:only-child::after {width: 0;}#sk-container-id-8 div.sk-dashed-wrapped {border: 1px dashed gray;margin: 0 0.4em 0.5em 0.4em;box-sizing: border-box;padding-bottom: 0.4em;background-color: white;}#sk-container-id-8 div.sk-label label {font-family: monospace;font-weight: bold;display: inline-block;line-height: 1.2em;}#sk-container-id-8 div.sk-label-container {text-align: center;}#sk-container-id-8 div.sk-container {/* jupyter's `normalize.less` sets `[hidden] { display: none; }` but bootstrap.min.css set `[hidden] { display: none !important; }` so we also need the `!important` here to be able to override the default hidden behavior on the sphinx rendered scikit-learn.org. See: https://github.com/scikit-learn/scikit-learn/issues/21755 */display: inline-block !important;position: relative;}#sk-container-id-8 div.sk-text-repr-fallback {display: none;}</style><div id=\"sk-container-id-8\" class=\"sk-top-container\"><div class=\"sk-text-repr-fallback\"><pre>GridSearchCV(cv=5, estimator=SVC(),\n",
       "             param_grid={&#x27;C&#x27;: [0.1, 1, 10, 100, 1000], &#x27;kernel&#x27;: [&#x27;linear&#x27;]},\n",
       "             scoring=&#x27;accuracy&#x27;)</pre><b>In a Jupyter environment, please rerun this cell to show the HTML representation or trust the notebook. <br />On GitHub, the HTML representation is unable to render, please try loading this page with nbviewer.org.</b></div><div class=\"sk-container\" hidden><div class=\"sk-item sk-dashed-wrapped\"><div class=\"sk-label-container\"><div class=\"sk-label sk-toggleable\"><input class=\"sk-toggleable__control sk-hidden--visually\" id=\"sk-estimator-id-12\" type=\"checkbox\" ><label for=\"sk-estimator-id-12\" class=\"sk-toggleable__label sk-toggleable__label-arrow\">GridSearchCV</label><div class=\"sk-toggleable__content\"><pre>GridSearchCV(cv=5, estimator=SVC(),\n",
       "             param_grid={&#x27;C&#x27;: [0.1, 1, 10, 100, 1000], &#x27;kernel&#x27;: [&#x27;linear&#x27;]},\n",
       "             scoring=&#x27;accuracy&#x27;)</pre></div></div></div><div class=\"sk-parallel\"><div class=\"sk-parallel-item\"><div class=\"sk-item\"><div class=\"sk-label-container\"><div class=\"sk-label sk-toggleable\"><input class=\"sk-toggleable__control sk-hidden--visually\" id=\"sk-estimator-id-13\" type=\"checkbox\" ><label for=\"sk-estimator-id-13\" class=\"sk-toggleable__label sk-toggleable__label-arrow\">estimator: SVC</label><div class=\"sk-toggleable__content\"><pre>SVC()</pre></div></div></div><div class=\"sk-serial\"><div class=\"sk-item\"><div class=\"sk-estimator sk-toggleable\"><input class=\"sk-toggleable__control sk-hidden--visually\" id=\"sk-estimator-id-14\" type=\"checkbox\" ><label for=\"sk-estimator-id-14\" class=\"sk-toggleable__label sk-toggleable__label-arrow\">SVC</label><div class=\"sk-toggleable__content\"><pre>SVC()</pre></div></div></div></div></div></div></div></div></div></div>"
      ],
      "text/plain": [
       "GridSearchCV(cv=5, estimator=SVC(),\n",
       "             param_grid={'C': [0.1, 1, 10, 100, 1000], 'kernel': ['linear']},\n",
       "             scoring='accuracy')"
      ]
     },
     "execution_count": 87,
     "metadata": {},
     "output_type": "execute_result"
    }
   ],
   "source": [
    "# Hyperparameter tuning dengan GridSearchCV\n",
    "param_grid = {'C': [0.1, 1, 10, 100, 1000], 'kernel': ['linear']}\n",
    "grid_search = GridSearchCV(SVC(), param_grid, cv=5, scoring='accuracy')\n",
    "grid_search.fit(X_train_pca, y_train)"
   ]
  },
  {
   "cell_type": "code",
   "execution_count": 88,
   "id": "31a7f631-764d-429b-aac3-de83caa61627",
   "metadata": {},
   "outputs": [
    {
     "name": "stdout",
     "output_type": "stream",
     "text": [
      "Best parameters: {'C': 1, 'kernel': 'linear'}\n"
     ]
    }
   ],
   "source": [
    "# Model terbaik\n",
    "best_model = grid_search.best_estimator_\n",
    "print(f\"Best parameters: {grid_search.best_params_}\")"
   ]
  },
  {
   "cell_type": "code",
   "execution_count": 89,
   "id": "f57872b9-bc41-4d5a-8d26-c9a543f47006",
   "metadata": {},
   "outputs": [
    {
     "data": {
      "text/html": [
       "<style>#sk-container-id-9 {color: black;background-color: white;}#sk-container-id-9 pre{padding: 0;}#sk-container-id-9 div.sk-toggleable {background-color: white;}#sk-container-id-9 label.sk-toggleable__label {cursor: pointer;display: block;width: 100%;margin-bottom: 0;padding: 0.3em;box-sizing: border-box;text-align: center;}#sk-container-id-9 label.sk-toggleable__label-arrow:before {content: \"▸\";float: left;margin-right: 0.25em;color: #696969;}#sk-container-id-9 label.sk-toggleable__label-arrow:hover:before {color: black;}#sk-container-id-9 div.sk-estimator:hover label.sk-toggleable__label-arrow:before {color: black;}#sk-container-id-9 div.sk-toggleable__content {max-height: 0;max-width: 0;overflow: hidden;text-align: left;background-color: #f0f8ff;}#sk-container-id-9 div.sk-toggleable__content pre {margin: 0.2em;color: black;border-radius: 0.25em;background-color: #f0f8ff;}#sk-container-id-9 input.sk-toggleable__control:checked~div.sk-toggleable__content {max-height: 200px;max-width: 100%;overflow: auto;}#sk-container-id-9 input.sk-toggleable__control:checked~label.sk-toggleable__label-arrow:before {content: \"▾\";}#sk-container-id-9 div.sk-estimator input.sk-toggleable__control:checked~label.sk-toggleable__label {background-color: #d4ebff;}#sk-container-id-9 div.sk-label input.sk-toggleable__control:checked~label.sk-toggleable__label {background-color: #d4ebff;}#sk-container-id-9 input.sk-hidden--visually {border: 0;clip: rect(1px 1px 1px 1px);clip: rect(1px, 1px, 1px, 1px);height: 1px;margin: -1px;overflow: hidden;padding: 0;position: absolute;width: 1px;}#sk-container-id-9 div.sk-estimator {font-family: monospace;background-color: #f0f8ff;border: 1px dotted black;border-radius: 0.25em;box-sizing: border-box;margin-bottom: 0.5em;}#sk-container-id-9 div.sk-estimator:hover {background-color: #d4ebff;}#sk-container-id-9 div.sk-parallel-item::after {content: \"\";width: 100%;border-bottom: 1px solid gray;flex-grow: 1;}#sk-container-id-9 div.sk-label:hover label.sk-toggleable__label {background-color: #d4ebff;}#sk-container-id-9 div.sk-serial::before {content: \"\";position: absolute;border-left: 1px solid gray;box-sizing: border-box;top: 0;bottom: 0;left: 50%;z-index: 0;}#sk-container-id-9 div.sk-serial {display: flex;flex-direction: column;align-items: center;background-color: white;padding-right: 0.2em;padding-left: 0.2em;position: relative;}#sk-container-id-9 div.sk-item {position: relative;z-index: 1;}#sk-container-id-9 div.sk-parallel {display: flex;align-items: stretch;justify-content: center;background-color: white;position: relative;}#sk-container-id-9 div.sk-item::before, #sk-container-id-9 div.sk-parallel-item::before {content: \"\";position: absolute;border-left: 1px solid gray;box-sizing: border-box;top: 0;bottom: 0;left: 50%;z-index: -1;}#sk-container-id-9 div.sk-parallel-item {display: flex;flex-direction: column;z-index: 1;position: relative;background-color: white;}#sk-container-id-9 div.sk-parallel-item:first-child::after {align-self: flex-end;width: 50%;}#sk-container-id-9 div.sk-parallel-item:last-child::after {align-self: flex-start;width: 50%;}#sk-container-id-9 div.sk-parallel-item:only-child::after {width: 0;}#sk-container-id-9 div.sk-dashed-wrapped {border: 1px dashed gray;margin: 0 0.4em 0.5em 0.4em;box-sizing: border-box;padding-bottom: 0.4em;background-color: white;}#sk-container-id-9 div.sk-label label {font-family: monospace;font-weight: bold;display: inline-block;line-height: 1.2em;}#sk-container-id-9 div.sk-label-container {text-align: center;}#sk-container-id-9 div.sk-container {/* jupyter's `normalize.less` sets `[hidden] { display: none; }` but bootstrap.min.css set `[hidden] { display: none !important; }` so we also need the `!important` here to be able to override the default hidden behavior on the sphinx rendered scikit-learn.org. See: https://github.com/scikit-learn/scikit-learn/issues/21755 */display: inline-block !important;position: relative;}#sk-container-id-9 div.sk-text-repr-fallback {display: none;}</style><div id=\"sk-container-id-9\" class=\"sk-top-container\"><div class=\"sk-text-repr-fallback\"><pre>SVC(C=1, kernel=&#x27;linear&#x27;)</pre><b>In a Jupyter environment, please rerun this cell to show the HTML representation or trust the notebook. <br />On GitHub, the HTML representation is unable to render, please try loading this page with nbviewer.org.</b></div><div class=\"sk-container\" hidden><div class=\"sk-item\"><div class=\"sk-estimator sk-toggleable\"><input class=\"sk-toggleable__control sk-hidden--visually\" id=\"sk-estimator-id-15\" type=\"checkbox\" checked><label for=\"sk-estimator-id-15\" class=\"sk-toggleable__label sk-toggleable__label-arrow\">SVC</label><div class=\"sk-toggleable__content\"><pre>SVC(C=1, kernel=&#x27;linear&#x27;)</pre></div></div></div></div></div>"
      ],
      "text/plain": [
       "SVC(C=1, kernel='linear')"
      ]
     },
     "execution_count": 89,
     "metadata": {},
     "output_type": "execute_result"
    }
   ],
   "source": [
    "# Train the best SVM model on reduced data\n",
    "best_model.fit(X_train_pca, y_train)"
   ]
  },
  {
   "cell_type": "code",
   "execution_count": 90,
   "id": "4d19c6de-faad-4b13-91f8-f3289f96c40a",
   "metadata": {},
   "outputs": [],
   "source": [
    "# Predict on the test set\n",
    "y_pred_pca = best_model.predict(X_test_pca)"
   ]
  },
  {
   "cell_type": "code",
   "execution_count": 91,
   "id": "861fcdc7-8a5d-4a1c-a00f-c73f3ca5ab53",
   "metadata": {},
   "outputs": [
    {
     "data": {
      "text/plain": [
       "<Figure size 1000x600 with 0 Axes>"
      ]
     },
     "execution_count": 91,
     "metadata": {},
     "output_type": "execute_result"
    },
    {
     "data": {
      "text/plain": [
       "<Figure size 1000x600 with 0 Axes>"
      ]
     },
     "metadata": {},
     "output_type": "display_data"
    }
   ],
   "source": [
    "# Plotting the data and hyperplane\n",
    "plt.figure(figsize=(10, 6))"
   ]
  },
  {
   "cell_type": "code",
   "execution_count": 92,
   "id": "08383899-ecab-47d8-b540-2778eab1268f",
   "metadata": {},
   "outputs": [
    {
     "data": {
      "image/png": "[encoded data removed]",
      "text/plain": [
       "<Figure size 640x480 with 1 Axes>"
      ]
     },
     "metadata": {},
     "output_type": "display_data"
    }
   ],
   "source": [
    "# Plot data points\n",
    "scatter = plt.scatter(X_train_pca[:, 0], X_train_pca[:, 1], c=y_train, cmap='viridis')\n",
    "\n",
    "# Update legend labels\n",
    "handles, _ = scatter.legend_elements()\n",
    "labels = ['Lulus' if label == 1 else 'Drop Out' for label in np.unique(y_train)]\n",
    "plt.legend(handles, labels, title=\"Classes\")\n",
    "\n",
    "# Plot decision boundary\n",
    "ax = plt.gca()\n",
    "xlim = ax.get_xlim()\n",
    "ylim = ax.get_ylim()\n",
    "\n",
    "xx, yy = np.meshgrid(np.linspace(xlim[0], xlim[1], 30), np.linspace(ylim[0], ylim[1], 30))\n",
    "Z = best_model.decision_function(np.c_[xx.ravel(), yy.ravel()])\n",
    "Z = Z.reshape(xx.shape)\n",
    "\n",
    "ax.contour(xx, yy, Z, colors='k', levels=[0], alpha=0.5, linestyles=['-'])\n",
    "# Add axis labels\n",
    "plt.xlabel('PCA Component 1')\n",
    "plt.ylabel('PCA Component 2')\n",
    "plt.title('SVM Decision Boundary with PCA')\n",
    "plt.show()"
   ]
  },
  {
   "cell_type": "code",
   "execution_count": 93,
   "id": "1b6c6f3e-1bde-4418-8a70-15838fc622a2",
   "metadata": {},
   "outputs": [
    {
     "name": "stdout",
     "output_type": "stream",
     "text": [
      "Model SVM Accuracy: 0.984375\n",
      "Precision: 0.9847301136363636\n",
      "Recall: 0.984375\n",
      "F1 Score: 0.984274250070087\n",
      "Classification Report:\n",
      "              precision    recall  f1-score   support\n",
      "\n",
      "           1       0.98      1.00      0.99        43\n",
      "           2       1.00      0.95      0.98        21\n",
      "\n",
      "    accuracy                           0.98        64\n",
      "   macro avg       0.99      0.98      0.98        64\n",
      "weighted avg       0.98      0.98      0.98        64\n",
      "\n"
     ]
    }
   ],
   "source": [
    "# Evaluate the model\n",
    "accuracy = accuracy_score(y_test, y_pred_pca)\n",
    "precision = precision_score(y_test, y_pred_pca, average='weighted')\n",
    "recall = recall_score(y_test, y_pred_pca, average='weighted')\n",
    "f1 = f1_score(y_test, y_pred_pca, average='weighted')\n",
    "classification_rep = classification_report(y_test, y_pred_pca)\n",
    "\n",
    "print(\"Model SVM Accuracy:\", accuracy)\n",
    "print(\"Precision:\", precision)\n",
    "print(\"Recall:\", recall)\n",
    "print(\"F1 Score:\", f1)\n",
    "print(\"Classification Report:\")\n",
    "print(classification_rep)"
   ]
  },
  {
   "cell_type": "code",
   "execution_count": 94,
   "id": "849095d2-304c-44d7-bf35-dc66cdf8e8ce",
   "metadata": {},
   "outputs": [
    {
     "name": "stdout",
     "output_type": "stream",
     "text": [
      "Confusion Matrix:\n",
      "[[43  0]\n",
      " [ 1 20]]\n"
     ]
    }
   ],
   "source": [
    "# Confusion matrix and calculation of TP, TN, FP, FN\n",
    "cm = confusion_matrix(y_test, y_pred_pca)\n",
    "print(\"Confusion Matrix:\")\n",
    "print(cm)"
   ]
  },
  {
   "cell_type": "code",
   "execution_count": 95,
   "id": "86da3e00-b58a-4ba5-9a47-896198ccc4a6",
   "metadata": {},
   "outputs": [
    {
     "name": "stdout",
     "output_type": "stream",
     "text": [
      "True Positives (TP): 20\n",
      "True Negatives (TN): 43\n",
      "False Positives (FP): 0\n",
      "False Negatives (FN): 1\n",
      "Confusion Matrix Accuracy: 0.984375\n"
     ]
    },
    {
     "data": {
      "image/png": "[encoded data removed]",
      "text/plain": [
       "<Figure size 800x600 with 2 Axes>"
      ]
     },
     "metadata": {},
     "output_type": "display_data"
    }
   ],
   "source": [
    "# Assuming binary classification with classes 0 and 1\n",
    "TN, FP, FN, TP = cm.ravel()\n",
    "\n",
    "print(\"True Positives (TP):\", TP)\n",
    "print(\"True Negatives (TN):\", TN)\n",
    "print(\"False Positives (FP):\", FP)\n",
    "print(\"False Negatives (FN):\", FN)\n",
    "\n",
    "# Calculate accuracy from confusion matrix\n",
    "conf_matrix_accuracy = (TP + TN) / (TP + TN + FP + FN)\n",
    "print(\"Confusion Matrix Accuracy:\", conf_matrix_accuracy)\n",
    "\n",
    "# Plotting the confusion matrix with modified labels\n",
    "plt.figure(figsize=(8, 6))\n",
    "ax = sns.heatmap(cm, annot=True, fmt='d', cmap='Blues', cbar=True,\n",
    "                 xticklabels=['Drop Out', 'Lulus'], yticklabels=['Drop Out', 'Lulus'])\n",
    "\n",
    "# Remove duplicated annotations by turning off the annot\n",
    "for t in ax.texts: \n",
    "    t.set_visible(False)\n",
    "\n",
    "# Adding TP, TN, FP, FN text annotations\n",
    "plt.text(0.5, 0.5, f'TN\\n{TN}', ha='center', va='center', color='white', fontsize=12, weight='bold')\n",
    "plt.text(1.5, 0.5, f'FP\\n{FP}', ha='center', va='center', color='black', fontsize=12, weight='bold')\n",
    "plt.text(0.5, 1.5, f'FN\\n{FN}', ha='center', va='center', color='black', fontsize=12, weight='bold')\n",
    "plt.text(1.5, 1.5, f'TP\\n{TP}', ha='center', va='center', color='black', fontsize=12, weight='bold')\n",
    "\n",
    "# Labels and title\n",
    "plt.xlabel('Predicted Values')\n",
    "plt.ylabel('Actual Values')\n",
    "plt.title('Confusion Matrix with TP, TN, FP, FN')\n",
    "\n",
    "# Save and display the updated confusion matrix\n",
    "plt.show()"
   ]
  },
  {
   "cell_type": "code",
   "execution_count": 60,
   "id": "956fe391-d626-44b1-a220-6f3fda3878ee",
   "metadata": {},
   "outputs": [
    {
     "name": "stdout",
     "output_type": "stream",
     "text": [
      "Prediksi kelulusan untuk data baru: [2 1]\n"
     ]
    }
   ],
   "source": [
    "def prediksi_data_baru(data_baru):\n",
    "    # Konversi data baru menjadi DataFrame\n",
    "    data_baru_df = pd.DataFrame(data_baru)\n",
    "\n",
    "    # Standarisasi data baru\n",
    "    data_baru_scaled = scaler.transform(data_baru_df)\n",
    "\n",
    "    # Reduksi dimensi dengan PCA\n",
    "    data_baru_pca = pca.transform(data_baru_scaled)\n",
    "\n",
    "    # Prediksi\n",
    "    prediksi_baru = best_model.predict(data_baru_pca)\n",
    "\n",
    "    return prediksi_baru\n",
    "\n",
    "# Contoh data baru untuk diprediksi\n",
    "data_baru = {\n",
    "    'IPS 1': [1.45, 2.00],\n",
    "    'IPS 2': [1.50, 2.75],\n",
    "    'IPS 3': [2.45, 3.00],\n",
    "    'IPS 4': [2.50, 3.45],\n",
    "    'Tagihan 1': [0, 0],\n",
    "    'Tagihan 2': [0, 1],\n",
    "    'Tagihan 3': [0, 0],\n",
    "    'Tagihan 4': [0, 0],\n",
    "    'Kehadiran': [80, 50]\n",
    "}\n",
    "\n",
    "# Prediksi untuk data baru\n",
    "prediksi = prediksi_data_baru(data_baru)\n",
    "print('Prediksi kelulusan untuk data baru:', prediksi)\n"
   ]
  },
  {
   "cell_type": "code",
   "execution_count": null,
   "id": "61822639-8081-4b75-8f57-1c7c07a6844a",
   "metadata": {},
   "outputs": [],
   "source": []
  }
 ],
 "metadata": {
  "kernelspec": {
   "display_name": "Python 3 (ipykernel)",
   "language": "python",
   "name": "python3"
  },
  "language_info": {
   "codemirror_mode": {
    "name": "ipython",
    "version": 3
   },
   "file_extension": ".py",
   "mimetype": "text/x-python",
   "name": "python",
   "nbconvert_exporter": "python",
   "pygments_lexer": "ipython3",
   "version": "3.11.7"
  }
 },
 "nbformat": 4,
 "nbformat_minor": 5
}
